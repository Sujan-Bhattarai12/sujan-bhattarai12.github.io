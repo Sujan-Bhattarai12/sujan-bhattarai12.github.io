{
  "cells": [
    {
      "cell_type": "raw",
      "metadata": {},
      "source": [
        "---\n",
        "listing: \n",
        "  contents: featured_projects # all Quarto docs in the `posts` directory will be included on your listing page\n",
        "  type: default # or `default` or `table`; each type has its own set of yaml options to include\n",
        "  sort: \"date desc\" # can also sort on more than one field\n",
        "  categories: true # allows you to sort posts by assigned categories\n",
        "---"
      ],
      "id": "f75b49cb"
    },
    {
      "cell_type": "markdown",
      "metadata": {},
      "source": [
        "```{css, echo=FALSE}\n",
        "body {\n",
        "    color: white; /* Set all text color to white */\n",
        "}\n",
        "\n",
        "h1, h2, h3, h4, h5, h6, p, li, a {\n",
        "    color: white; /* Ensure headers, paragraphs, list items, and links are also white */\n",
        "}\n",
        "\n",
        "a {\n",
        "    text-decoration: none; /* Remove underline from links */\n",
        "}\n",
        "\n",
        "a:hover {\n",
        "    color: white; /* Keep links white on hover */\n",
        "}"
      ],
      "id": "05df8ac3"
    }
  ],
  "metadata": {
    "kernelspec": {
      "display_name": "Python 3",
      "language": "python",
      "name": "python3"
    }
  },
  "nbformat": 4,
  "nbformat_minor": 5
}