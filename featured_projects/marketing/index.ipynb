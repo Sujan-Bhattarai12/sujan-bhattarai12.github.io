{
  "cells": [
    {
      "cell_type": "raw",
      "metadata": {},
      "source": [
        "---\n",
        "title: 'Analyzing marketing campaigns with AB testing on useful metrics '\n",
        "format:\n",
        "  html:\n",
        "    code-fold: true\n",
        "---"
      ],
      "id": "34eb5178"
    },
    {
      "cell_type": "markdown",
      "metadata": {},
      "source": [
        "### Summary of the Project\n"
      ],
      "id": "36eb0a29"
    },
    {
      "cell_type": "code",
      "metadata": {},
      "source": [
        "import pandas as pd\n",
        "\n",
        "marketing = pd.read_csv(\"marketing/data/marketing.csv\")\n",
        "print(marketing.head())  # Display the first few rows"
      ],
      "id": "63292f0f",
      "execution_count": null,
      "outputs": []
    }
  ],
  "metadata": {
    "kernelspec": {
      "display_name": "Python 3",
      "language": "python",
      "name": "python3"
    }
  },
  "nbformat": 4,
  "nbformat_minor": 5
}